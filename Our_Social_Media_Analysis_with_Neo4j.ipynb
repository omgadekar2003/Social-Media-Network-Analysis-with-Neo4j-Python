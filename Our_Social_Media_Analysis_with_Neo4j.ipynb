{
  "nbformat": 4,
  "nbformat_minor": 0,
  "metadata": {
    "colab": {
      "provenance": []
    },
    "kernelspec": {
      "name": "python3",
      "display_name": "Python 3"
    },
    "language_info": {
      "name": "python"
    }
  },
  "cells": [
    {
      "cell_type": "markdown",
      "source": [
        "# Install"
      ],
      "metadata": {
        "id": "tHZDdB8A0lHC"
      }
    },
    {
      "cell_type": "code",
      "execution_count": null,
      "metadata": {
        "colab": {
          "base_uri": "https://localhost:8080/"
        },
        "id": "QL3-_fHC0KHo",
        "outputId": "961901d0-78f0-4ec9-9b7d-c06c1226979e"
      },
      "outputs": [
        {
          "output_type": "stream",
          "name": "stdout",
          "text": [
            "\u001b[?25l   \u001b[90m━━━━━━━━━━━━━━━━━━━━━━━━━━━━━━━━━━━━━━━━\u001b[0m \u001b[32m0.0/177.2 kB\u001b[0m \u001b[31m?\u001b[0m eta \u001b[36m-:--:--\u001b[0m\r\u001b[2K   \u001b[90m━━━━━━━━━━━━━━━━━━━━━━━━━━━━━━━━━━━━━━━━\u001b[0m \u001b[32m177.2/177.2 kB\u001b[0m \u001b[31m10.5 MB/s\u001b[0m eta \u001b[36m0:00:00\u001b[0m\n",
            "\u001b[?25h"
          ]
        }
      ],
      "source": [
        "!pip install -q py2neo"
      ]
    },
    {
      "cell_type": "markdown",
      "source": [
        "#import"
      ],
      "metadata": {
        "id": "S5HkBjEk0ncU"
      }
    },
    {
      "cell_type": "code",
      "source": [
        "from py2neo import Graph\n",
        "from py2neo import Node\n",
        "from py2neo import Relationship\n",
        "import pandas as pd"
      ],
      "metadata": {
        "id": "dnXY7rBX0YAG"
      },
      "execution_count": null,
      "outputs": []
    },
    {
      "cell_type": "markdown",
      "source": [
        "# Established a Connection:"
      ],
      "metadata": {
        "id": "bpbnFzUL0-6N"
      }
    },
    {
      "cell_type": "code",
      "source": [
        "graph = Graph(\n",
        "    \"bolt://44.198.58.112:7687\",\n",
        "    user=\"neo4j\",\n",
        "    password=\"lime-rock-points\"\n",
        "    )"
      ],
      "metadata": {
        "id": "qSAQ4lCj04rJ"
      },
      "execution_count": null,
      "outputs": []
    },
    {
      "cell_type": "markdown",
      "source": [
        "# Social Media Nodes:"
      ],
      "metadata": {
        "id": "msHnVeoO1jhU"
      }
    },
    {
      "cell_type": "code",
      "source": [
        "Instagram = Node(\"Social_Media\", title=\"Instagram\", tagline=\"Capture and Share the World's Moments\")\n",
        "Facebook = Node(\"Social_Media\",  title=\"Facebook\", tagline=\"It's quick and easy\")\n",
        "WhatsApp = Node(\"Social_Media\",  title=\"WhatsApp\", tagline=\"Hey there, I am using WhatsApp\")\n",
        "SnapChat = Node(\"Social_Media\", title=\"SnapChat\", tagline=\"THe fastest way to share a moment\")\n",
        "Youtube = Node(\"Social_Media\", title=\"Youtube\", tagline=\"Broadcast Yourself\")\n",
        "X = Node(\"Social_Media\", title=\"X\", tagline=\"Here, your voice matters\")\n",
        "LinkedIn = Node(\"Social_Media\", title=\"LinkedIn\", tagline=\"Sum up your Professional brand\")"
      ],
      "metadata": {
        "id": "bTVBu67u1jIc"
      },
      "execution_count": null,
      "outputs": []
    },
    {
      "cell_type": "markdown",
      "source": [
        "#User Nodes:\n",
        "**as social media is nothing without the Users:**"
      ],
      "metadata": {
        "id": "B2Dak5e43Ucr"
      }
    },
    {
      "cell_type": "code",
      "source": [
        "Chandler = Node(\"Person\", name=\"Chandler Bing\", dob=1968, country=\"USA\", sex=\"Male\")\n",
        "Rachel = Node(\"Person\", name=\"Rachel Green\", dob=1969, country=\"USA\", sex=\"Female\")\n",
        "Joey = Node(\"Person\", name=\"Joey Tribbiani\", dob=1967, country=\"USA\", sex=\"Male\")\n",
        "Ross = Node(\"Person\", name=\"Ross Geller\", dob=1967, country=\"USA\", sex=\"Male\")\n",
        "Monica = Node(\"Person\", name=\"Monica Geller\", dob=1967, country=\"USA\", sex=\"Female\")\n",
        "Phoebe = Node(\"Person\", name=\"Phoebe Buffay\", dob=1971, country=\"USA\", sex=\"Female\")\n",
        "\n",
        "Abhijit = Node(\"Person\", name=\"Abhijit Singh \", dob=1980, country=\"India\", sex=\"Male\")\n",
        "ACP = Node(\"Person\", name=\"ACP Pradyuman \", dob=1960, country=\"India\", sex=\"Male\")\n",
        "Tarika = Node(\"Person\", name=\"DR Tarika \", dob=1986, country=\"India\", sex=\"Female\")\n",
        "Purvi = Node(\"Person\", name=\"Purvi Sayed \", dob=1988, country=\"India\", sex=\"Female\")\n",
        "Shreya = Node(\"Person\", name=\"Shreya Chedda\", dob=1985, country=\"India\", sex=\"Female\")\n",
        "Salunkhe = Node(\"Person\", name=\"Dr R.P. Salunkhe \", dob=1965, country=\"India\", sex=\"Male\")\n",
        "Fredricks = Node(\"Person\", name=\"Fredricks \", dob=1975, country=\"India\", sex=\"Male\")\n",
        "Sachin = Node(\"Person\", name=\"Inspector Sachin\", dob=1987, country=\"India\", sex=\"Male\")\n",
        "Nikhil = Node(\"Person\", name=\"Inspector Nikhil \", dob=1990, country=\"India\", sex=\"Male\")\n",
        "\n",
        "Om = Node(\"Person\", name=\"Om Gadekar\", dob=2003, country=\"India\", sex=\"Male\")\n",
        "Tanishq = Node(\"Person\", name=\"Tanishq Jawanjal\", dob=2004, country=\"India\", sex=\"Male\")\n",
        "Samir = Node(\"Person\", name=\"Samir Kamble\", dob=2002, country=\"India\", sex=\"Male\")\n",
        "Anuja = Node(\"Person\", name=\"Anuja Jagtap\", dob=2003, country=\"India\", sex=\"Female\")\n",
        "Khushi = Node(\"Person\", name=\"Khushi Kunte\", dob=2003, country=\"India\", sex=\"Female\")\n",
        "Abhay = Node(\"Person\", name=\"Abhau Jadhav\", dob=2003, country=\"India\", sex=\"Male\")\n",
        "Aniket = Node(\"Person\", name=\"Aniket Chopde \", dob=2003, country=\"India\", sex=\"Male\")"
      ],
      "metadata": {
        "id": "GTw7VL0y3S98"
      },
      "execution_count": null,
      "outputs": []
    },
    {
      "cell_type": "markdown",
      "source": [
        "# Storing Nodes in Graph:"
      ],
      "metadata": {
        "id": "KK8d2X5-5FPa"
      }
    },
    {
      "cell_type": "code",
      "source": [
        "graph.create(Instagram | Facebook | WhatsApp | SnapChat | Youtube | X | LinkedIn)"
      ],
      "metadata": {
        "id": "6zd8s84-1hAK"
      },
      "execution_count": null,
      "outputs": []
    },
    {
      "cell_type": "code",
      "source": [
        "\n",
        "graph.create(Chandler | Rachel | Joey | Ross | Monica | Phoebe\n",
        "             | Om | Tanishq | Samir | Anuja | Khushi | Abhay\n",
        "             | Aniket | Abhijit | ACP | Tarika |Purvi | Shreya\n",
        "             | Salunkhe | Fredricks | Sachin | Nikhil)"
      ],
      "metadata": {
        "id": "vbUefh8v5Xu0"
      },
      "execution_count": null,
      "outputs": []
    },
    {
      "cell_type": "markdown",
      "source": [
        "# Adding Relationship between Social Media Nodes & User Nodes that we've created."
      ],
      "metadata": {
        "id": "gLvfiTFuIZuU"
      }
    },
    {
      "cell_type": "code",
      "source": [
        "graph.create(Relationship(Joey, \"Uses\", SnapChat, joinedyear=2014, screentime=47, rating=3))\n",
        "graph.create(Relationship(Ross, \"Uses\", LinkedIn, joinedyear=2010, screentime=64, rating=5))\n",
        "graph.create(Relationship(Ross, \"Uses\", X, joinedyear=2013, screentime=60, rating=4.6))\n",
        "graph.create(Relationship(Monica, \"Uses\", Facebook, joinedyear=2019, screentime=97, rating=4.5))\n",
        "graph.create(Relationship(Phoebe, \"Uses\", Facebook, joinedyear=2018, screentime=20, rating=3))\n",
        "graph.create(Relationship(Om, \"Uses\", Instagram, joinedyear=2016, screentime=69, rating=4.9))\n",
        "graph.create(Relationship(Samir, \"Uses\", Facebook, joinedyear=2016, screentime=94, rating=1))\n",
        "graph.create(Relationship(Samir, \"Uses\", LinkedIn, joinedyear=2022, screentime=34, rating=4.8))\n",
        "graph.create(Relationship(Anuja, \"Uses\", Youtube, joinedyear=2018, screentime=104, rating=4.6))\n",
        "graph.create(Relationship(Anuja, \"Uses\", X, joinedyear=2022, screentime=24, rating=1.8))\n",
        "graph.create(Relationship(Anuja, \"Uses\", Instagram, joinedyear = 2020, screentime = 120, rating = 4.8))\n",
        "graph.create(Relationship(Khushi, \"Uses\", Youtube, joinedyear=2019, screentime=14, rating=5))\n",
        "graph.create(Relationship(Khushi, \"Uses\", SnapChat, joinedyear=2020, screentime=36, rating=3.8))\n",
        "graph.create(Relationship(Khushi, \"Uses\", LinkedIn, joinedyear=2021, screentime=20, rating=4))\n",
        "graph.create(Relationship(Chandler, \"Uses\", Facebook, joinedyear=2016, screentime=30, rating=2))\n",
        "graph.create(Relationship(Chandler, \"Uses\", WhatsApp, joinedyear=2016, screentime=70, rating=3))\n",
        "graph.create(Relationship(Chandler, \"Uses\", Instagram, joinedyear=2012, screentime=150, rating=4.9))\n",
        "graph.create(Relationship(Rachel, \"Uses\", WhatsApp, joinedyear=2018, screentime=100, rating=4))\n",
        "\n",
        "graph.create(Relationship(Phoebe, \"Uses\", WhatsApp, joinedyear=2010, screentime=25, rating=5))\n",
        "graph.create(Relationship(Rachel, \"Uses\", WhatsApp, joinedyear=2011, screentime=10, rating=4))\n",
        "graph.create(Relationship(Om, \"Uses\", WhatsApp, joinedyear=2015, screentime=15, rating=5))\n",
        "graph.create(Relationship(Monica, \"Uses\", WhatsApp, joinedyear=2013, screentime=30, rating=4))\n",
        "graph.create(Relationship(Samir, \"Uses\", WhatsApp, joinedyear=2014, screentime=35, rating=5))\n",
        "graph.create(Relationship(Ross, \"Uses\", WhatsApp, joinedyear=2015, screentime=40, rating=4))\n",
        "graph.create(Relationship(Anuja, \"Uses\", WhatsApp, joinedyear=2016, screentime=45, rating=5))\n",
        "graph.create(Relationship(Khushi, \"Uses\", WhatsApp, joinedyear=2017, screentime=50, rating=4))\n",
        "graph.create(Relationship(Joey, \"Uses\", WhatsApp, joinedyear=2018, screentime=55, rating=5))\n",
        "\n",
        "graph.create(Relationship(Tanishq, \"Uses\", Instagram, joinedyear=2018, screentime=80, rating=5))\n",
        "graph.create(Relationship(ACP, \"Uses\", X, joinedyear=2014, screentime=20, rating=3))\n",
        "graph.create(Relationship(Tarika, \"Uses\", Instagram, joinedyear=2015, screentime=130, rating=4))\n",
        "graph.create(Relationship(Purvi, \"Uses\", Instagram, joinedyear=2017, screentime=100, rating=4))\n",
        "graph.create(Relationship(Shreya, \"Uses\", Instagram, joinedyear=2018, screentime=40, rating=4))\n",
        "graph.create(Relationship(Om, \"Uses\", LinkedIn, joinedyear=2023, screentime=10, rating=3))\n",
        "graph.create(Relationship(Fredricks, \"Uses\", Youtube, joinedyear=2013, screentime=30, rating=3))\n",
        "graph.create(Relationship(Sachin, \"Uses\", Youtube, joinedyear=2010, screentime=40, rating=4))\n",
        "graph.create(Relationship(Nikhil, \"Uses\", Instagram, joinedyear=2012, screentime=50, rating=5))\n",
        "\n",
        "graph.create(Relationship(Rachel, \"Uses\", Facebook, joinedyear=2017, screentime=43, rating=2))\n",
        "graph.create(Relationship(Aniket, \"Uses\", X, joinedyear=2022, screentime=84, rating=4))\n",
        "graph.create(Relationship(Aniket, \"Uses\", LinkedIn, joinedyear=2024, screentime=134, rating=1))\n",
        "graph.create(Relationship(Aniket, \"Uses\", Youtube, joinedyear=2017, screentime=64, rating=4.8))\n",
        "graph.create(Relationship(Abhay, \"Uses\", X, joinedyear=2020, screentime=54, rating=2.9))\n",
        "graph.create(Relationship(Abhay, \"Uses\", SnapChat, joinedyear=2015, screentime=76, rating=3.8))\n",
        "graph.create(Relationship(Abhay, \"Uses\", WhatsApp, joinedyear=2019, screentime=87, rating=2.6))\n",
        "graph.create(Relationship(Tanishq, \"Uses\", Facebook, joinedyear=2017, screentime=29, rating=4.9))\n",
        "graph.create(Relationship(Tanishq, \"Uses\", SnapChat, joinedyear=2018, screentime=48, rating=2.8))\n",
        "graph.create(Relationship(Om, \"Uses\",       X, joinedyear=2024, screentime=86, rating=1.6))\n"
      ],
      "metadata": {
        "id": "I3YwkzK15pB9"
      },
      "execution_count": null,
      "outputs": []
    },
    {
      "cell_type": "code",
      "source": [
        "graph.create(Relationship(Salunkhe, \"Uses\", LinkedIn, joinedyear=2019, screentime=10, rating=3))\n",
        "graph.create(Relationship(Abhijit, \"Uses\", Instagram, joinedyear=2018, screentime=80, rating=5))"
      ],
      "metadata": {
        "id": "dZyk8AqTKHMG"
      },
      "execution_count": null,
      "outputs": []
    },
    {
      "cell_type": "markdown",
      "source": [
        "# Billions of users uses Social Media but using Neo4j. It makes Data Analysis Simple."
      ],
      "metadata": {
        "id": "_CeAuXI8OncX"
      }
    },
    {
      "cell_type": "markdown",
      "source": [
        "# Now Neo4j Database is established. now time to Data Analysis & get Insights from it."
      ],
      "metadata": {
        "id": "DwmGYgjBM9iC"
      }
    },
    {
      "cell_type": "markdown",
      "source": [
        "#Top 5 platforms with most users?"
      ],
      "metadata": {
        "id": "oU6Tg87INOzn"
      }
    },
    {
      "cell_type": "code",
      "source": [
        "query1 = \"\"\"\n",
        "MATCH (p:Person)-[]->(s:Social_Media)\n",
        "RETURN s.title, count(*) as Users\n",
        "order by Users desc\n",
        "limit 5\n",
        "\"\"\"\n",
        "\n",
        "result1 = graph.run(query1)\n",
        "print(\"Top 5 Social Media platfroms used by Users: \")\n",
        "for d in result1:\n",
        "  print(d)"
      ],
      "metadata": {
        "colab": {
          "base_uri": "https://localhost:8080/"
        },
        "id": "sRcv9_5SKHT4",
        "outputId": "a4daff5c-0665-4be4-aac5-a6161264cb49"
      },
      "execution_count": null,
      "outputs": [
        {
          "output_type": "stream",
          "name": "stdout",
          "text": [
            "Top 5 Social Media platfroms used by Users: \n",
            "'WhatsApp'\t11\n",
            "'Instagram'\t9\n",
            "'Facebook'\t6\n",
            "'X'\t6\n",
            "'LinkedIn'\t6\n"
          ]
        }
      ]
    },
    {
      "cell_type": "markdown",
      "source": [
        "#Which platform has the highest rating?"
      ],
      "metadata": {
        "id": "ZKi-TGYwPo3C"
      }
    },
    {
      "cell_type": "code",
      "source": [
        "query2 = \"\"\"\n",
        "MATCH (p:Person)-[r]->(s:Social_Media)\n",
        "RETURN s.title AS Title, AVG(r.rating) as Rating\n",
        "ORDER BY Rating DESC\n",
        " \"\"\"\n",
        "\n",
        "result2 = graph.run(query2)\n",
        "print(\"Which platform has the highest rating?\")\n",
        "for d in result2:\n",
        " print(d)"
      ],
      "metadata": {
        "colab": {
          "base_uri": "https://localhost:8080/"
        },
        "id": "-6cxQyRbKHb4",
        "outputId": "9c8c4978-6315-4b51-c244-37ae59848112"
      },
      "execution_count": null,
      "outputs": [
        {
          "output_type": "stream",
          "name": "stdout",
          "text": [
            "Which platform has the highest rating?\n",
            "'Instagram'\t4.622222222222223\n",
            "'Youtube'\t4.28\n",
            "'WhatsApp'\t4.236363636363636\n",
            "'LinkedIn'\t3.466666666666667\n",
            "'SnapChat'\t3.3499999999999996\n",
            "'X'\t2.9833333333333334\n",
            "'Facebook'\t2.9\n"
          ]
        }
      ]
    },
    {
      "cell_type": "markdown",
      "source": [
        "#What is the total screen time for a user & which social media platform has the most screen time?"
      ],
      "metadata": {
        "id": "PMQIKiVbPy8V"
      }
    },
    {
      "cell_type": "code",
      "source": [
        "query3=\"\"\"\n",
        "MATCH (p:Person)-[r]->(s:Social_Media)\n",
        "return distinct p.name as Name, s.title, SUM(r.screentime) as Total\n",
        "order by Total desc\n",
        "limit 10\n",
        "\"\"\"\n",
        "\n",
        "result3 = graph.run(query3)\n",
        "\n",
        "df = pd.DataFrame(result3,columns=[\"User\",\"Social Media\",\" Screen Time\"])"
      ],
      "metadata": {
        "id": "EsXlsYQ_KHgx"
      },
      "execution_count": null,
      "outputs": []
    },
    {
      "cell_type": "code",
      "source": [
        "df"
      ],
      "metadata": {
        "colab": {
          "base_uri": "https://localhost:8080/",
          "height": 363
        },
        "id": "e7zjBgtNVd8Q",
        "outputId": "a13bc4e0-6eb1-4c24-91ee-2d969e6b16a4"
      },
      "execution_count": null,
      "outputs": [
        {
          "output_type": "execute_result",
          "data": {
            "text/plain": [
              "             User Social Media   Screen Time\n",
              "0   Chandler Bing    Instagram           150\n",
              "1  Aniket Chopde      LinkedIn           134\n",
              "2      DR Tarika     Instagram           130\n",
              "3    Anuja Jagtap    Instagram           120\n",
              "4    Anuja Jagtap      Youtube           104\n",
              "5    Purvi Sayed     Instagram           100\n",
              "6   Monica Geller     Facebook            97\n",
              "7    Samir Kamble     Facebook            94\n",
              "8    Abhau Jadhav     WhatsApp            87\n",
              "9      Om Gadekar            X            86"
            ],
            "text/html": [
              "\n",
              "  <div id=\"df-d9baf312-30f9-4589-bd89-39d9451bf7a1\" class=\"colab-df-container\">\n",
              "    <div>\n",
              "<style scoped>\n",
              "    .dataframe tbody tr th:only-of-type {\n",
              "        vertical-align: middle;\n",
              "    }\n",
              "\n",
              "    .dataframe tbody tr th {\n",
              "        vertical-align: top;\n",
              "    }\n",
              "\n",
              "    .dataframe thead th {\n",
              "        text-align: right;\n",
              "    }\n",
              "</style>\n",
              "<table border=\"1\" class=\"dataframe\">\n",
              "  <thead>\n",
              "    <tr style=\"text-align: right;\">\n",
              "      <th></th>\n",
              "      <th>User</th>\n",
              "      <th>Social Media</th>\n",
              "      <th>Screen Time</th>\n",
              "    </tr>\n",
              "  </thead>\n",
              "  <tbody>\n",
              "    <tr>\n",
              "      <th>0</th>\n",
              "      <td>Chandler Bing</td>\n",
              "      <td>Instagram</td>\n",
              "      <td>150</td>\n",
              "    </tr>\n",
              "    <tr>\n",
              "      <th>1</th>\n",
              "      <td>Aniket Chopde</td>\n",
              "      <td>LinkedIn</td>\n",
              "      <td>134</td>\n",
              "    </tr>\n",
              "    <tr>\n",
              "      <th>2</th>\n",
              "      <td>DR Tarika</td>\n",
              "      <td>Instagram</td>\n",
              "      <td>130</td>\n",
              "    </tr>\n",
              "    <tr>\n",
              "      <th>3</th>\n",
              "      <td>Anuja Jagtap</td>\n",
              "      <td>Instagram</td>\n",
              "      <td>120</td>\n",
              "    </tr>\n",
              "    <tr>\n",
              "      <th>4</th>\n",
              "      <td>Anuja Jagtap</td>\n",
              "      <td>Youtube</td>\n",
              "      <td>104</td>\n",
              "    </tr>\n",
              "    <tr>\n",
              "      <th>5</th>\n",
              "      <td>Purvi Sayed</td>\n",
              "      <td>Instagram</td>\n",
              "      <td>100</td>\n",
              "    </tr>\n",
              "    <tr>\n",
              "      <th>6</th>\n",
              "      <td>Monica Geller</td>\n",
              "      <td>Facebook</td>\n",
              "      <td>97</td>\n",
              "    </tr>\n",
              "    <tr>\n",
              "      <th>7</th>\n",
              "      <td>Samir Kamble</td>\n",
              "      <td>Facebook</td>\n",
              "      <td>94</td>\n",
              "    </tr>\n",
              "    <tr>\n",
              "      <th>8</th>\n",
              "      <td>Abhau Jadhav</td>\n",
              "      <td>WhatsApp</td>\n",
              "      <td>87</td>\n",
              "    </tr>\n",
              "    <tr>\n",
              "      <th>9</th>\n",
              "      <td>Om Gadekar</td>\n",
              "      <td>X</td>\n",
              "      <td>86</td>\n",
              "    </tr>\n",
              "  </tbody>\n",
              "</table>\n",
              "</div>\n",
              "    <div class=\"colab-df-buttons\">\n",
              "\n",
              "  <div class=\"colab-df-container\">\n",
              "    <button class=\"colab-df-convert\" onclick=\"convertToInteractive('df-d9baf312-30f9-4589-bd89-39d9451bf7a1')\"\n",
              "            title=\"Convert this dataframe to an interactive table.\"\n",
              "            style=\"display:none;\">\n",
              "\n",
              "  <svg xmlns=\"http://www.w3.org/2000/svg\" height=\"24px\" viewBox=\"0 -960 960 960\">\n",
              "    <path d=\"M120-120v-720h720v720H120Zm60-500h600v-160H180v160Zm220 220h160v-160H400v160Zm0 220h160v-160H400v160ZM180-400h160v-160H180v160Zm440 0h160v-160H620v160ZM180-180h160v-160H180v160Zm440 0h160v-160H620v160Z\"/>\n",
              "  </svg>\n",
              "    </button>\n",
              "\n",
              "  <style>\n",
              "    .colab-df-container {\n",
              "      display:flex;\n",
              "      gap: 12px;\n",
              "    }\n",
              "\n",
              "    .colab-df-convert {\n",
              "      background-color: #E8F0FE;\n",
              "      border: none;\n",
              "      border-radius: 50%;\n",
              "      cursor: pointer;\n",
              "      display: none;\n",
              "      fill: #1967D2;\n",
              "      height: 32px;\n",
              "      padding: 0 0 0 0;\n",
              "      width: 32px;\n",
              "    }\n",
              "\n",
              "    .colab-df-convert:hover {\n",
              "      background-color: #E2EBFA;\n",
              "      box-shadow: 0px 1px 2px rgba(60, 64, 67, 0.3), 0px 1px 3px 1px rgba(60, 64, 67, 0.15);\n",
              "      fill: #174EA6;\n",
              "    }\n",
              "\n",
              "    .colab-df-buttons div {\n",
              "      margin-bottom: 4px;\n",
              "    }\n",
              "\n",
              "    [theme=dark] .colab-df-convert {\n",
              "      background-color: #3B4455;\n",
              "      fill: #D2E3FC;\n",
              "    }\n",
              "\n",
              "    [theme=dark] .colab-df-convert:hover {\n",
              "      background-color: #434B5C;\n",
              "      box-shadow: 0px 1px 3px 1px rgba(0, 0, 0, 0.15);\n",
              "      filter: drop-shadow(0px 1px 2px rgba(0, 0, 0, 0.3));\n",
              "      fill: #FFFFFF;\n",
              "    }\n",
              "  </style>\n",
              "\n",
              "    <script>\n",
              "      const buttonEl =\n",
              "        document.querySelector('#df-d9baf312-30f9-4589-bd89-39d9451bf7a1 button.colab-df-convert');\n",
              "      buttonEl.style.display =\n",
              "        google.colab.kernel.accessAllowed ? 'block' : 'none';\n",
              "\n",
              "      async function convertToInteractive(key) {\n",
              "        const element = document.querySelector('#df-d9baf312-30f9-4589-bd89-39d9451bf7a1');\n",
              "        const dataTable =\n",
              "          await google.colab.kernel.invokeFunction('convertToInteractive',\n",
              "                                                    [key], {});\n",
              "        if (!dataTable) return;\n",
              "\n",
              "        const docLinkHtml = 'Like what you see? Visit the ' +\n",
              "          '<a target=\"_blank\" href=https://colab.research.google.com/notebooks/data_table.ipynb>data table notebook</a>'\n",
              "          + ' to learn more about interactive tables.';\n",
              "        element.innerHTML = '';\n",
              "        dataTable['output_type'] = 'display_data';\n",
              "        await google.colab.output.renderOutput(dataTable, element);\n",
              "        const docLink = document.createElement('div');\n",
              "        docLink.innerHTML = docLinkHtml;\n",
              "        element.appendChild(docLink);\n",
              "      }\n",
              "    </script>\n",
              "  </div>\n",
              "\n",
              "\n",
              "<div id=\"df-c7352a31-e44a-403c-9212-f8b8ac031f60\">\n",
              "  <button class=\"colab-df-quickchart\" onclick=\"quickchart('df-c7352a31-e44a-403c-9212-f8b8ac031f60')\"\n",
              "            title=\"Suggest charts\"\n",
              "            style=\"display:none;\">\n",
              "\n",
              "<svg xmlns=\"http://www.w3.org/2000/svg\" height=\"24px\"viewBox=\"0 0 24 24\"\n",
              "     width=\"24px\">\n",
              "    <g>\n",
              "        <path d=\"M19 3H5c-1.1 0-2 .9-2 2v14c0 1.1.9 2 2 2h14c1.1 0 2-.9 2-2V5c0-1.1-.9-2-2-2zM9 17H7v-7h2v7zm4 0h-2V7h2v10zm4 0h-2v-4h2v4z\"/>\n",
              "    </g>\n",
              "</svg>\n",
              "  </button>\n",
              "\n",
              "<style>\n",
              "  .colab-df-quickchart {\n",
              "      --bg-color: #E8F0FE;\n",
              "      --fill-color: #1967D2;\n",
              "      --hover-bg-color: #E2EBFA;\n",
              "      --hover-fill-color: #174EA6;\n",
              "      --disabled-fill-color: #AAA;\n",
              "      --disabled-bg-color: #DDD;\n",
              "  }\n",
              "\n",
              "  [theme=dark] .colab-df-quickchart {\n",
              "      --bg-color: #3B4455;\n",
              "      --fill-color: #D2E3FC;\n",
              "      --hover-bg-color: #434B5C;\n",
              "      --hover-fill-color: #FFFFFF;\n",
              "      --disabled-bg-color: #3B4455;\n",
              "      --disabled-fill-color: #666;\n",
              "  }\n",
              "\n",
              "  .colab-df-quickchart {\n",
              "    background-color: var(--bg-color);\n",
              "    border: none;\n",
              "    border-radius: 50%;\n",
              "    cursor: pointer;\n",
              "    display: none;\n",
              "    fill: var(--fill-color);\n",
              "    height: 32px;\n",
              "    padding: 0;\n",
              "    width: 32px;\n",
              "  }\n",
              "\n",
              "  .colab-df-quickchart:hover {\n",
              "    background-color: var(--hover-bg-color);\n",
              "    box-shadow: 0 1px 2px rgba(60, 64, 67, 0.3), 0 1px 3px 1px rgba(60, 64, 67, 0.15);\n",
              "    fill: var(--button-hover-fill-color);\n",
              "  }\n",
              "\n",
              "  .colab-df-quickchart-complete:disabled,\n",
              "  .colab-df-quickchart-complete:disabled:hover {\n",
              "    background-color: var(--disabled-bg-color);\n",
              "    fill: var(--disabled-fill-color);\n",
              "    box-shadow: none;\n",
              "  }\n",
              "\n",
              "  .colab-df-spinner {\n",
              "    border: 2px solid var(--fill-color);\n",
              "    border-color: transparent;\n",
              "    border-bottom-color: var(--fill-color);\n",
              "    animation:\n",
              "      spin 1s steps(1) infinite;\n",
              "  }\n",
              "\n",
              "  @keyframes spin {\n",
              "    0% {\n",
              "      border-color: transparent;\n",
              "      border-bottom-color: var(--fill-color);\n",
              "      border-left-color: var(--fill-color);\n",
              "    }\n",
              "    20% {\n",
              "      border-color: transparent;\n",
              "      border-left-color: var(--fill-color);\n",
              "      border-top-color: var(--fill-color);\n",
              "    }\n",
              "    30% {\n",
              "      border-color: transparent;\n",
              "      border-left-color: var(--fill-color);\n",
              "      border-top-color: var(--fill-color);\n",
              "      border-right-color: var(--fill-color);\n",
              "    }\n",
              "    40% {\n",
              "      border-color: transparent;\n",
              "      border-right-color: var(--fill-color);\n",
              "      border-top-color: var(--fill-color);\n",
              "    }\n",
              "    60% {\n",
              "      border-color: transparent;\n",
              "      border-right-color: var(--fill-color);\n",
              "    }\n",
              "    80% {\n",
              "      border-color: transparent;\n",
              "      border-right-color: var(--fill-color);\n",
              "      border-bottom-color: var(--fill-color);\n",
              "    }\n",
              "    90% {\n",
              "      border-color: transparent;\n",
              "      border-bottom-color: var(--fill-color);\n",
              "    }\n",
              "  }\n",
              "</style>\n",
              "\n",
              "  <script>\n",
              "    async function quickchart(key) {\n",
              "      const quickchartButtonEl =\n",
              "        document.querySelector('#' + key + ' button');\n",
              "      quickchartButtonEl.disabled = true;  // To prevent multiple clicks.\n",
              "      quickchartButtonEl.classList.add('colab-df-spinner');\n",
              "      try {\n",
              "        const charts = await google.colab.kernel.invokeFunction(\n",
              "            'suggestCharts', [key], {});\n",
              "      } catch (error) {\n",
              "        console.error('Error during call to suggestCharts:', error);\n",
              "      }\n",
              "      quickchartButtonEl.classList.remove('colab-df-spinner');\n",
              "      quickchartButtonEl.classList.add('colab-df-quickchart-complete');\n",
              "    }\n",
              "    (() => {\n",
              "      let quickchartButtonEl =\n",
              "        document.querySelector('#df-c7352a31-e44a-403c-9212-f8b8ac031f60 button');\n",
              "      quickchartButtonEl.style.display =\n",
              "        google.colab.kernel.accessAllowed ? 'block' : 'none';\n",
              "    })();\n",
              "  </script>\n",
              "</div>\n",
              "\n",
              "  <div id=\"id_1583524e-0d58-4358-9cd1-73b624adf4c4\">\n",
              "    <style>\n",
              "      .colab-df-generate {\n",
              "        background-color: #E8F0FE;\n",
              "        border: none;\n",
              "        border-radius: 50%;\n",
              "        cursor: pointer;\n",
              "        display: none;\n",
              "        fill: #1967D2;\n",
              "        height: 32px;\n",
              "        padding: 0 0 0 0;\n",
              "        width: 32px;\n",
              "      }\n",
              "\n",
              "      .colab-df-generate:hover {\n",
              "        background-color: #E2EBFA;\n",
              "        box-shadow: 0px 1px 2px rgba(60, 64, 67, 0.3), 0px 1px 3px 1px rgba(60, 64, 67, 0.15);\n",
              "        fill: #174EA6;\n",
              "      }\n",
              "\n",
              "      [theme=dark] .colab-df-generate {\n",
              "        background-color: #3B4455;\n",
              "        fill: #D2E3FC;\n",
              "      }\n",
              "\n",
              "      [theme=dark] .colab-df-generate:hover {\n",
              "        background-color: #434B5C;\n",
              "        box-shadow: 0px 1px 3px 1px rgba(0, 0, 0, 0.15);\n",
              "        filter: drop-shadow(0px 1px 2px rgba(0, 0, 0, 0.3));\n",
              "        fill: #FFFFFF;\n",
              "      }\n",
              "    </style>\n",
              "    <button class=\"colab-df-generate\" onclick=\"generateWithVariable('df')\"\n",
              "            title=\"Generate code using this dataframe.\"\n",
              "            style=\"display:none;\">\n",
              "\n",
              "  <svg xmlns=\"http://www.w3.org/2000/svg\" height=\"24px\"viewBox=\"0 0 24 24\"\n",
              "       width=\"24px\">\n",
              "    <path d=\"M7,19H8.4L18.45,9,17,7.55,7,17.6ZM5,21V16.75L18.45,3.32a2,2,0,0,1,2.83,0l1.4,1.43a1.91,1.91,0,0,1,.58,1.4,1.91,1.91,0,0,1-.58,1.4L9.25,21ZM18.45,9,17,7.55Zm-12,3A5.31,5.31,0,0,0,4.9,8.1,5.31,5.31,0,0,0,1,6.5,5.31,5.31,0,0,0,4.9,4.9,5.31,5.31,0,0,0,6.5,1,5.31,5.31,0,0,0,8.1,4.9,5.31,5.31,0,0,0,12,6.5,5.46,5.46,0,0,0,6.5,12Z\"/>\n",
              "  </svg>\n",
              "    </button>\n",
              "    <script>\n",
              "      (() => {\n",
              "      const buttonEl =\n",
              "        document.querySelector('#id_1583524e-0d58-4358-9cd1-73b624adf4c4 button.colab-df-generate');\n",
              "      buttonEl.style.display =\n",
              "        google.colab.kernel.accessAllowed ? 'block' : 'none';\n",
              "\n",
              "      buttonEl.onclick = () => {\n",
              "        google.colab.notebook.generateWithVariable('df');\n",
              "      }\n",
              "      })();\n",
              "    </script>\n",
              "  </div>\n",
              "\n",
              "    </div>\n",
              "  </div>\n"
            ],
            "application/vnd.google.colaboratory.intrinsic+json": {
              "type": "dataframe",
              "variable_name": "df",
              "summary": "{\n  \"name\": \"df\",\n  \"rows\": 10,\n  \"fields\": [\n    {\n      \"column\": \"User\",\n      \"properties\": {\n        \"dtype\": \"string\",\n        \"num_unique_values\": 9,\n        \"samples\": [\n          \"Abhau Jadhav\",\n          \"Aniket Chopde \",\n          \"Monica Geller\"\n        ],\n        \"semantic_type\": \"\",\n        \"description\": \"\"\n      }\n    },\n    {\n      \"column\": \"Social Media\",\n      \"properties\": {\n        \"dtype\": \"string\",\n        \"num_unique_values\": 6,\n        \"samples\": [\n          \"Instagram\",\n          \"LinkedIn\",\n          \"X\"\n        ],\n        \"semantic_type\": \"\",\n        \"description\": \"\"\n      }\n    },\n    {\n      \"column\": \" Screen Time\",\n      \"properties\": {\n        \"dtype\": \"number\",\n        \"std\": 21,\n        \"min\": 86,\n        \"max\": 150,\n        \"num_unique_values\": 10,\n        \"samples\": [\n          87,\n          134,\n          100\n        ],\n        \"semantic_type\": \"\",\n        \"description\": \"\"\n      }\n    }\n  ]\n}"
            }
          },
          "metadata": {},
          "execution_count": 36
        }
      ]
    },
    {
      "cell_type": "markdown",
      "source": [
        "#Find the Eldest Person & the Youngest Person with their choice of Social Media"
      ],
      "metadata": {
        "id": "I528zHQ9P0qR"
      }
    },
    {
      "cell_type": "code",
      "source": [
        "\n",
        "query4 = \"\"\"\n",
        "MATCH (p:Person)-[r]->(s:Social_Media)\n",
        "SET p.Name = 'Eldest Person :'\n",
        "RETURN p.Name, p.name AS Name, 2025-p.dob AS Age, s.title\n",
        "ORDER BY Age DESC\n",
        "LIMIT 1\n",
        "UNION ALL\n",
        "MATCH (p:Person)-[r]->(s:Social_Media)\n",
        "SET p.Name = 'Youngest Person: '\n",
        "RETURN p.Name ,p.name AS Name, 2025-p.dob AS Age, s.title\n",
        "ORDER BY Age\n",
        "LIMIT 1\n",
        "\"\"\"\n",
        "\n",
        "result4 = graph.run(query4)\n",
        "for d in result4:\n",
        "    print(d)\n"
      ],
      "metadata": {
        "colab": {
          "base_uri": "https://localhost:8080/"
        },
        "id": "ENKV4yDRKHmM",
        "outputId": "f38c45a3-10c7-457f-b7a4-b90423b0f5f0"
      },
      "execution_count": null,
      "outputs": [
        {
          "output_type": "stream",
          "name": "stdout",
          "text": [
            "'Eldest Person :'\t'ACP Pradyuman '\t65\t'X'\n",
            "'Youngest Person: '\t'Tanishq Jawanjal'\t21\t'Instagram'\n"
          ]
        }
      ]
    },
    {
      "cell_type": "markdown",
      "source": [
        "#Find the number of male & female users for each social media platform."
      ],
      "metadata": {
        "id": "nXL-rp72P7vz"
      }
    },
    {
      "cell_type": "code",
      "source": [
        "\n",
        "query5 = \"\"\"\n",
        "MATCH (p:Person)-[r]->(s:Social_Media)\n",
        "WHERE p.sex=\"Male\"\n",
        "SET p.surname = 'Male'\n",
        "RETURN s.title, COUNT(*),p.surname AS count\n",
        "ORDER BY count DESC\n",
        "UNION ALL\n",
        "MATCH (p:Person)-[r]->(s:Social_Media)\n",
        "WHERE p.sex=\"Female\"\n",
        "SET p.surname = 'Female'\n",
        "RETURN s.title, COUNT(*),p.surname AS count\n",
        "ORDER BY count DESC\n",
        "\"\"\"\n",
        "\n",
        "result5 = graph.run(query5)\n",
        "for d in result5:\n",
        "    print(d)"
      ],
      "metadata": {
        "colab": {
          "base_uri": "https://localhost:8080/"
        },
        "id": "-xTlrgBBP82o",
        "outputId": "ea53683e-82aa-4f72-9c84-107b1512e244"
      },
      "execution_count": null,
      "outputs": [
        {
          "output_type": "stream",
          "name": "stdout",
          "text": [
            "'WhatsApp'\t6\t'Male'\n",
            "'SnapChat'\t3\t'Male'\n",
            "'Instagram'\t5\t'Male'\n",
            "'Facebook'\t3\t'Male'\n",
            "'X'\t5\t'Male'\n",
            "'Youtube'\t3\t'Male'\n",
            "'LinkedIn'\t5\t'Male'\n",
            "'WhatsApp'\t5\t'Female'\n",
            "'Facebook'\t3\t'Female'\n",
            "'Instagram'\t4\t'Female'\n",
            "'Youtube'\t2\t'Female'\n",
            "'X'\t1\t'Female'\n",
            "'SnapChat'\t1\t'Female'\n",
            "'LinkedIn'\t1\t'Female'\n"
          ]
        }
      ]
    }
  ]
}